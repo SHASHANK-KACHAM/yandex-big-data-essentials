{
 "cells": [
  {
   "cell_type": "code",
   "execution_count": 1,
   "metadata": {},
   "outputs": [],
   "source": [
    "from pyspark import SparkConf, SparkContext\n",
    "sc = SparkContext(conf=SparkConf().setAppName(\"MyApp\").setMaster(\"local\"))\n",
    "\n"
   ]
  },
  {
   "cell_type": "code",
   "execution_count": 2,
   "metadata": {},
   "outputs": [],
   "source": [
    "import re\n",
    "\n",
    "def parse_article(line):\n",
    "    try:\n",
    "        article_id, text = unicode(line.rstrip()).split('\\t', 1)\n",
    "        text = re.sub(\"^\\W+|\\W+$\", \"\", text, flags=re.UNICODE)\n",
    "        words = re.split(\"\\W*\\s+\\W*\", text, flags=re.UNICODE)\n",
    "        return (int(article_id), words)\n",
    "    except ValueError as e:\n",
    "        return (undefined,undefined)\n",
    "\n",
    "def filter_word(line):\n",
    "    try:\n",
    "        article_id, text = unicode(line.rstrip()).split('\\t', 1)\n",
    "        text = re.sub(\"^\\W+|\\W+$\", \"\", text, flags=re.UNICODE)\n",
    "        words = re.split(\"\\W*\\s+\\W*\", text, flags=re.UNICODE)\n",
    "        return ('narodnaya' in words) or ('Narodnaya' in words)\n",
    "    except ValueError as e:\n",
    "        return False\n",
    "    \n",
    "wiki = sc.textFile(\"/data/wiki/en_articles_part/articles-part\", 16).filter(filter_word).map(parse_article)\n",
    "wiki.cache()\n",
    "result = wiki.take(6)"
   ]
  },
  {
   "cell_type": "code",
   "execution_count": 3,
   "metadata": {},
   "outputs": [],
   "source": [
    "def numeroter_mot(parsed_article):\n",
    "    try:\n",
    "        article_id = parsed_article[0]\n",
    "        words = parsed_article[1]\n",
    "        ret_val = []\n",
    "        for idx, val in enumerate(words):\n",
    "            ret_val.append( (str(article_id) + \"_\" + str(idx), val.lower()))\n",
    "    except ValueError as e:\n",
    "        return []\n",
    "    return ret_val\n",
    "\n",
    "def numeroter_mot_precedent(parsed_article):\n",
    "    try:\n",
    "        article_id = parsed_article[0]\n",
    "        words = parsed_article[1]\n",
    "        ret_val = []\n",
    "        for idx, val in enumerate(words):\n",
    "            ret_val.append( (str(article_id) + \"_\" + str(idx + 1), val.lower()))\n",
    "    except ValueError as e:\n",
    "        return []\n",
    "    return ret_val\n",
    "                "
   ]
  },
  {
   "cell_type": "code",
   "execution_count": 4,
   "metadata": {},
   "outputs": [],
   "source": [
    "#wiki = wiki.filter(lambda x: 'narodnaya' in x[1])\n",
    "mots_numerotes = wiki.flatMap(numeroter_mot)\n",
    "mots_numerotes.cache()\n",
    "result = mots_numerotes.take(6)\n",
    "mots_precedents_numerotes = wiki.flatMap(numeroter_mot_precedent)\n",
    "mots_precedents_numerotes.cache()\n",
    "result_precedents = mots_precedents_numerotes.take(6)\n"
   ]
  },
  {
   "cell_type": "code",
   "execution_count": 5,
   "metadata": {},
   "outputs": [
    {
     "data": {
      "text/plain": [
       "PythonRDD[13] at RDD at PythonRDD.scala:48"
      ]
     },
     "execution_count": 5,
     "metadata": {},
     "output_type": "execute_result"
    }
   ],
   "source": [
    "mots_precedents_numerotes_narodnaya = mots_precedents_numerotes.filter (lambda x: x[1] == 'narodnaya')\n",
    "mots_precedents_numerotes_narodnaya.cache()\n"
   ]
  },
  {
   "cell_type": "code",
   "execution_count": 6,
   "metadata": {},
   "outputs": [],
   "source": [
    "joined = mots_precedents_numerotes_narodnaya.join(mots_numerotes)\n",
    "result_joined = joined.take(20)"
   ]
  },
  {
   "cell_type": "code",
   "execution_count": 7,
   "metadata": {},
   "outputs": [],
   "source": [
    "def prepare_bigram(pair):\n",
    "    return (pair[1][0] + \"_\" + pair[1][1],1)\n",
    "\n",
    "def reduce_bigrams(a,b):\n",
    "    return a+b\n",
    "\n",
    "bigrams = joined.map(prepare_bigram).reduceByKey(reduce_bigrams)"
   ]
  },
  {
   "cell_type": "code",
   "execution_count": 8,
   "metadata": {},
   "outputs": [
    {
     "name": "stdout",
     "output_type": "stream",
     "text": [
      "narodnaya_gazeta\t1\n",
      "narodnaya_volya\t9\n"
     ]
    }
   ],
   "source": [
    "results = bigrams.collect()\n",
    "\n",
    "for result in results:\n",
    "    print((\"%s\\t%s\" % (result[0],result[1])).decode('utf-8'))\n"
   ]
  }
 ],
 "metadata": {
  "kernelspec": {
   "display_name": "Python 2",
   "language": "python",
   "name": "python2"
  },
  "language_info": {
   "codemirror_mode": {
    "name": "ipython",
    "version": 2
   },
   "file_extension": ".py",
   "mimetype": "text/x-python",
   "name": "python",
   "nbconvert_exporter": "python",
   "pygments_lexer": "ipython2",
   "version": "2.7.12"
  }
 },
 "nbformat": 4,
 "nbformat_minor": 2
}
