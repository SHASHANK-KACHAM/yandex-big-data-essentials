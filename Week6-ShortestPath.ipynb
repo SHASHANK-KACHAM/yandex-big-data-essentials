{
 "cells": [
  {
   "cell_type": "code",
   "execution_count": 1,
   "metadata": {},
   "outputs": [],
   "source": [
    "from __future__ import print_function\n",
    "import copy"
   ]
  },
  {
   "cell_type": "markdown",
   "metadata": {},
   "source": [
    "Import spark and start a local context"
   ]
  },
  {
   "cell_type": "code",
   "execution_count": 2,
   "metadata": {},
   "outputs": [],
   "source": [
    "from pyspark import SparkConf, SparkContext\n",
    "sc = SparkContext(conf=SparkConf().setAppName(\"MyApp\").setMaster(\"local\"))"
   ]
  },
  {
   "cell_type": "markdown",
   "metadata": {},
   "source": [
    "Define mapping functions"
   ]
  },
  {
   "cell_type": "code",
   "execution_count": 3,
   "metadata": {},
   "outputs": [],
   "source": [
    "def parse_edge(s):\n",
    "    user, follower = s.split(\"\\t\")\n",
    "    return (int(user), int(follower))\n",
    "\n",
    "def step(item):\n",
    "    prev_v, prev_d, next_v = item[0], item[1][0], item[1][1]\n",
    "    next_d = copy.copy(prev_d)\n",
    "    next_d.append(prev_v)\n",
    "    return (next_v, next_d)\n",
    "\n",
    "def complete(item):\n",
    "  v, old_d, new_d = item[0], item[1][0], item[1][1]\n",
    "  return (v, old_d if old_d is not None else new_d)\n",
    "\n"
   ]
  },
  {
   "cell_type": "markdown",
   "metadata": {},
   "source": [
    "Global settings. In the starter example code, the number of partitions is too high.\n",
    "So, we reduce it to 4."
   ]
  },
  {
   "cell_type": "code",
   "execution_count": 4,
   "metadata": {},
   "outputs": [],
   "source": [
    "#n = 400  # number of partitions\n",
    "n = 4"
   ]
  },
  {
   "cell_type": "markdown",
   "metadata": {},
   "source": [
    "Loading data\n"
   ]
  },
  {
   "cell_type": "code",
   "execution_count": 5,
   "metadata": {},
   "outputs": [],
   "source": [
    "edges = sc.textFile(\"/data/twitter/twitter_sample_small.txt\").map(parse_edge).cache()\n",
    "#edges = sc.textFile(\"/data/twitter/twitter_sample.txt\").map(parse_edge).cache()\n",
    "forward_edges = edges.map(lambda e: (e[1], e[0])).partitionBy(n).persist()"
   ]
  },
  {
   "cell_type": "markdown",
   "metadata": {},
   "source": [
    "Define start node. We shall track the path to the node, not only the distance."
   ]
  },
  {
   "cell_type": "code",
   "execution_count": 6,
   "metadata": {},
   "outputs": [],
   "source": [
    "x = 12 # start node\n",
    "t = 34 # end node\n",
    "d = 0\n",
    "distances = sc.parallelize([(x, [])]).partitionBy(n)\n",
    "shortest_path = []"
   ]
  },
  {
   "cell_type": "markdown",
   "metadata": {},
   "source": [
    "Compute all distances"
   ]
  },
  {
   "cell_type": "code",
   "execution_count": 7,
   "metadata": {},
   "outputs": [],
   "source": [
    "while True:\n",
    "    # we keep candidates aside, so we can reduce the forward edges set later\n",
    "    candidates_join = distances.join(forward_edges, n).persist()\n",
    "    candidates = candidates_join.map(step)\n",
    "    new_distances = distances.fullOuterJoin(candidates, n).map(complete, True).persist()\n",
    "    # did we hit target ?\n",
    "    targets = new_distances.filter(lambda i: i[0] == t)\n",
    "    if targets.count() > 0:\n",
    "        # if yes, return the first match\n",
    "        collected_targets = targets.collect()\n",
    "        shortest_path = collected_targets[0][1]\n",
    "        break;\n",
    "    # Else counting new nodes discovered... This is useless here, as we shall\n",
    "    # find the target. It helps stopping the computation if we have something wrong,\n",
    "    # anyway\n",
    "    new_distances = new_distances.filter(lambda i: len(i[1]) == d + 1).persist()\n",
    "    count = new_distances.count()\n",
    "    if count > 0:\n",
    "        d += 1\n",
    "        distances = new_distances\n",
    "        # reducing the forward edges set\n",
    "        forward_edges = forward_edges.subtractByKey(candidates_join).persist()\n",
    "    else:\n",
    "        break\n"
   ]
  },
  {
   "cell_type": "code",
   "execution_count": 8,
   "metadata": {},
   "outputs": [
    {
     "name": "stdout",
     "output_type": "stream",
     "text": [
      "12,422,53,52,107,20,23,274,34\n"
     ]
    }
   ],
   "source": [
    "# outputing result\n",
    "for node in shortest_path:\n",
    "        print(node,end='')\n",
    "        print(',',end='')\n",
    "print(t)"
   ]
  },
  {
   "cell_type": "code",
   "execution_count": null,
   "metadata": {},
   "outputs": [],
   "source": []
  }
 ],
 "metadata": {
  "kernelspec": {
   "display_name": "Python 2",
   "language": "python",
   "name": "python2"
  },
  "language_info": {
   "codemirror_mode": {
    "name": "ipython",
    "version": 2
   },
   "file_extension": ".py",
   "mimetype": "text/x-python",
   "name": "python",
   "nbconvert_exporter": "python",
   "pygments_lexer": "ipython2",
   "version": "2.7.12"
  }
 },
 "nbformat": 4,
 "nbformat_minor": 2
}
